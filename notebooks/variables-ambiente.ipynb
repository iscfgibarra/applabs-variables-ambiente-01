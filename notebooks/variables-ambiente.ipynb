{
 "cells": [
  {
   "cell_type": "markdown",
   "source": [
    "# Variables de ambiente en entornos de ML"
   ],
   "metadata": {
    "collapsed": false
   }
  },
  {
   "cell_type": "markdown",
   "source": [
    "## 1.- ¿Qué es una variable de ambiente?\n",
    "\n",
    "Una variable de ambiente es una forma de almacenar un valor que puede ser utilizado por diferentes programas o sistemas operativos.\n",
    "\n",
    "Por ejemplo, supongamos que deseas que todos los programas en tu computadora sepan qué directorio (carpeta) deben utilizar para almacenar archivos temporales. En lugar de tener que configurar cada programa individualmente, puedes establecer una variable de ambiente llamada \"TEMP\" y asignarle el valor del directorio que deseas que use. Luego, cada programa puede leer la variable de ambiente y usar el valor asignado para determinar dónde deben almacenar los archivos temporales.\n",
    "\n",
    "Las variables de ambiente son útiles porque te permiten configurar un solo valor que puede ser utilizado por diferentes programas o sistemas operativos sin tener que configurar cada uno de ellos individualmente."
   ],
   "metadata": {
    "collapsed": false
   }
  },
  {
   "cell_type": "markdown",
   "source": [
    "## 2.- ¿Como se establece una variable de ambiente en Windows?\n",
    "\n",
    "En la linea de comandos:\n",
    "```shell\n",
    "set Albricias=true\n",
    "```\n",
    "En el powershell:\n",
    "```shell\n",
    "$Env:Albricias=True\n",
    "```\n",
    "Mostrar la variable\n",
    "```shell\n",
    "echo %Albricias%\n",
    "```\n",
    "\n"
   ],
   "metadata": {
    "collapsed": false
   }
  },
  {
   "cell_type": "markdown",
   "source": [
    "## 3.- ¿Como se establece una variable de ambiente en Linux?\n",
    "\n",
    "```shell\n",
    "export Felicitaciones=true\n",
    "echo $Felicitaciones\n",
    "```\n"
   ],
   "metadata": {
    "collapsed": false
   }
  },
  {
   "cell_type": "markdown",
   "source": [
    "## 4.- ¿Cómo se establece una variable en Jupyter?"
   ],
   "metadata": {
    "collapsed": false
   }
  },
  {
   "cell_type": "code",
   "execution_count": 1,
   "outputs": [
    {
     "name": "stdout",
     "output_type": "stream",
     "text": [
      "env: DATABASE_URL=sqlite:///inventario.sqlite\n"
     ]
    }
   ],
   "source": [
    "%env DATABASE_URL=sqlite:///inventario.sqlite"
   ],
   "metadata": {
    "collapsed": false
   }
  },
  {
   "cell_type": "code",
   "execution_count": 2,
   "outputs": [
    {
     "data": {
      "text/plain": "'sqlite:///inventario.sqlite'"
     },
     "execution_count": 2,
     "metadata": {},
     "output_type": "execute_result"
    }
   ],
   "source": [
    "%env DATABASE_URL"
   ],
   "metadata": {
    "collapsed": false
   }
  },
  {
   "cell_type": "markdown",
   "source": [
    "## 5.- ¿Cómo se usan las variables de ambiente en Python?"
   ],
   "metadata": {
    "collapsed": false
   }
  },
  {
   "cell_type": "code",
   "execution_count": 3,
   "outputs": [],
   "source": [
    "import os #debemos de importar la libreria estandar del sistema operativo"
   ],
   "metadata": {
    "collapsed": false
   }
  },
  {
   "cell_type": "markdown",
   "source": [
    "### 5.1 Recuperar la variable de ambiente diccionario"
   ],
   "metadata": {
    "collapsed": false
   }
  },
  {
   "cell_type": "markdown",
   "source": [],
   "metadata": {
    "collapsed": false
   }
  },
  {
   "cell_type": "code",
   "execution_count": 4,
   "outputs": [
    {
     "name": "stdout",
     "output_type": "stream",
     "text": [
      "sqlite:///inventario.sqlite\n"
     ]
    }
   ],
   "source": [
    "\n",
    "database_url_dic=os.environ['DATABASE_URL']\n",
    "print(database_url_dic)\n"
   ],
   "metadata": {
    "collapsed": false
   }
  },
  {
   "cell_type": "markdown",
   "source": [
    "### 5.2.- Recuperar por medio de la funcion get"
   ],
   "metadata": {
    "collapsed": false
   }
  },
  {
   "cell_type": "code",
   "execution_count": 5,
   "outputs": [
    {
     "name": "stdout",
     "output_type": "stream",
     "text": [
      "sqlite:///inventario.sqlite\n"
     ]
    }
   ],
   "source": [
    "database_url_get = os.environ.get('DATABASE_URL')\n",
    "print(database_url_get)"
   ],
   "metadata": {
    "collapsed": false
   }
  },
  {
   "cell_type": "markdown",
   "source": [
    "### 5.3.- Recuperar por medio de la funcion get con un valor default\n",
    "\n",
    "Para evitar errores por tener una variable no establecida, podemos traer una variable con un valor default"
   ],
   "metadata": {
    "collapsed": false
   }
  },
  {
   "cell_type": "code",
   "execution_count": 6,
   "outputs": [
    {
     "name": "stdout",
     "output_type": "stream",
     "text": [
      "None\n"
     ]
    }
   ],
   "source": [
    "database_url_get_default = os.environ.get('AWS_DATABASE')\n",
    "print(database_url_get_default)"
   ],
   "metadata": {
    "collapsed": false
   }
  },
  {
   "cell_type": "code",
   "execution_count": 7,
   "outputs": [
    {
     "name": "stdout",
     "output_type": "stream",
     "text": [
      "inventada\n"
     ]
    }
   ],
   "source": [
    "database_url_get_default = os.environ.get('AWS_DATABASE','inventada')\n",
    "print(database_url_get_default)"
   ],
   "metadata": {
    "collapsed": false
   }
  },
  {
   "cell_type": "markdown",
   "source": [
    "### 5.4.- La funcion recomendada es os.getenv"
   ],
   "metadata": {
    "collapsed": false
   }
  },
  {
   "cell_type": "code",
   "execution_count": 8,
   "outputs": [
    {
     "name": "stdout",
     "output_type": "stream",
     "text": [
      "sqlite:///inventario.sqlite\n"
     ]
    }
   ],
   "source": [
    "database_url_getenv = os.getenv('DATABASE_URL')\n",
    "print(database_url_getenv)"
   ],
   "metadata": {
    "collapsed": false
   }
  },
  {
   "cell_type": "markdown",
   "source": [
    "También se le puede establecer un valor default"
   ],
   "metadata": {
    "collapsed": false
   }
  },
  {
   "cell_type": "code",
   "execution_count": 9,
   "outputs": [
    {
     "name": "stdout",
     "output_type": "stream",
     "text": [
      "esto es fake\n"
     ]
    }
   ],
   "source": [
    "database_url_getenv_default = os.getenv('INVENTADA1','esto es fake')\n",
    "print(database_url_getenv_default)"
   ],
   "metadata": {
    "collapsed": false
   }
  },
  {
   "cell_type": "markdown",
   "source": [
    "## 6.- ¿Cómo organizo mis variables de ambiente?\n",
    "\n",
    "La recomendación es usar un módulo de configuración en las aplicaciones, verificar que estamos estableciendo correctamente en los archivos \\_\\_init\\_\\_.py nuestras clases y objetos para facilitar el uso del código en los ambientes de desarrollo."
   ],
   "metadata": {
    "collapsed": false
   }
  },
  {
   "cell_type": "code",
   "execution_count": 10,
   "outputs": [
    {
     "name": "stdout",
     "output_type": "stream",
     "text": [
      "database_default\n",
      "secret_default\n"
     ]
    }
   ],
   "source": [
    "import os\n",
    "\n",
    "class ConfigFromOs:\n",
    "\n",
    "    def __init__(self):\n",
    "        # Nombrar las variables de entorno con un prefijo para evitar\n",
    "        self.aws_database = os.getenv('PYML_AWS_DATABASE_OS', 'database_default')\n",
    "        self.aws_secret = os.getenv('PYML_AWS_SECRET_OS', 'secret_default')\n",
    "\n",
    "\n",
    "config_from_os = ConfigFromOs()\n",
    "\n",
    "print(config_from_os.aws_database)\n",
    "print(config_from_os.aws_secret)"
   ],
   "metadata": {
    "collapsed": false
   }
  },
  {
   "cell_type": "markdown",
   "source": [
    "## 7.- ¿Cómo uso un archivo .env en python?\n",
    "\n",
    "Básicamente, hay que crear un archivo .env en la raíz del proyecto con las variables que necesitamos en el ambiente, por medio de clave valor\n",
    "\n",
    "```\n",
    "PYML_AWS_DATABASE=postgres\n",
    "PYML_AWS_SECRET=ASWEDHFGDYUI67436\n",
    "```\n",
    "\n",
    "Después podemos utilizar la libreria python-dotenv para cargar estas variables\n",
    "\n"
   ],
   "metadata": {
    "collapsed": false
   }
  },
  {
   "cell_type": "code",
   "execution_count": 11,
   "outputs": [
    {
     "name": "stdout",
     "output_type": "stream",
     "text": [
      "Requirement already satisfied: python-dotenv in d:\\py\\applabs-variables-ambiente-01\\venv\\lib\\site-packages (0.21.0)\n"
     ]
    },
    {
     "name": "stderr",
     "output_type": "stream",
     "text": [
      "WARNING: You are using pip version 21.3.1; however, version 22.3.1 is available.\n",
      "You should consider upgrading via the 'D:\\py\\applabs-variables-ambiente-01\\venv\\Scripts\\python.exe -m pip install --upgrade pip' command.\n"
     ]
    }
   ],
   "source": [
    "!pip install python-dotenv"
   ],
   "metadata": {
    "collapsed": false
   }
  },
  {
   "cell_type": "code",
   "execution_count": 12,
   "outputs": [
    {
     "name": "stdout",
     "output_type": "stream",
     "text": [
      "postgres\n",
      "ASWEDHFGDYUI67436\n"
     ]
    }
   ],
   "source": [
    "import os\n",
    "from dotenv import load_dotenv\n",
    "\n",
    "\n",
    "class ConfigFromFile:\n",
    "\n",
    "    def __init__(self):\n",
    "        load_dotenv()\n",
    "        # Nombrar las variables de entorno con un prefijo para evitar\n",
    "        self.aws_database = os.getenv('PYML_AWS_DATABASE', 'database_default')\n",
    "        self.aws_secret = os.getenv('PYML_AWS_SECRET', 'secret_default')\n",
    "\n",
    "\n",
    "config_from_file = ConfigFromFile()\n",
    "\n",
    "print(config_from_file.aws_database)\n",
    "print(config_from_file.aws_secret)"
   ],
   "metadata": {
    "collapsed": false
   }
  },
  {
   "cell_type": "markdown",
   "source": [
    "## 8.- Recomendaciones generales"
   ],
   "metadata": {
    "collapsed": false
   }
  },
  {
   "cell_type": "markdown",
   "source": [
    "* En el archivo .gitignore siempre debe agregarse el archivo .env, en este ejemplo omití este paso para fines didácticos\n",
    "* Debes agregar un archivo example.env para ilustrar como o de que tipo deben establecer tus variables de ambiente\n",
    "* No olvides que no debes exponer información confidencial o subir a los repositorios de git información sensible de tus cuentas o cadenas de conexión, asi es como han \"hackeado\" a miles de empresas."
   ],
   "metadata": {
    "collapsed": false
   }
  },
  {
   "cell_type": "code",
   "execution_count": null,
   "outputs": [],
   "source": [],
   "metadata": {
    "collapsed": false
   }
  }
 ],
 "metadata": {
  "kernelspec": {
   "display_name": "Python 3",
   "language": "python",
   "name": "python3"
  },
  "language_info": {
   "codemirror_mode": {
    "name": "ipython",
    "version": 2
   },
   "file_extension": ".py",
   "mimetype": "text/x-python",
   "name": "python",
   "nbconvert_exporter": "python",
   "pygments_lexer": "ipython2",
   "version": "2.7.6"
  }
 },
 "nbformat": 4,
 "nbformat_minor": 0
}
